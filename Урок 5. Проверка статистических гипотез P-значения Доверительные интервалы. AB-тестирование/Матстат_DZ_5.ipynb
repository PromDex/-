{
 "cells": [
  {
   "cell_type": "markdown",
   "id": "c61a32fc",
   "metadata": {},
   "source": [
    "## Урок 5. ДЗ \n",
    "## Теория вероятности\n",
    "### Урок 5. Проверка статистических гипотез. P-значения. Доверительные интервалы. A/B-тестирование"
   ]
  },
  {
   "cell_type": "code",
   "execution_count": 4,
   "id": "6dea2b1c",
   "metadata": {},
   "outputs": [],
   "source": [
    "import numpy as np\n",
    "import pandas as pd\n",
    "from scipy import stats\n",
    "import math\n",
    "from statsmodels.stats.weightstats import _tconfint_generic as t_stat\n",
    "import warnings\n",
    "warnings.filterwarnings('ignore')"
   ]
  },
  {
   "cell_type": "markdown",
   "id": "161c071d",
   "metadata": {},
   "source": [
    "### ЗАДАЧА 1.\n",
    "\n",
    "Известно, что генеральная совокупность распределена нормально\n",
    "со средним квадратическим отклонением, равным 16.\n",
    "Найти доверительный интервал для оценки математического ожидания a с надежностью 0.95,\n",
    "если выборочная средняя M = 80, а объем выборки n = 256."
   ]
  },
  {
   "cell_type": "markdown",
   "id": "5d93b55b",
   "metadata": {},
   "source": [
    "#### Решение:\n",
    "Средне квадратическое отклонение генеральной совокупности $sigma = 16$\\\n",
    "Объем выборки из генеральной совокупности $n = 256$\\\n",
    "Выборочное среднее $m = 80$\\\n",
    "Надежность = 0.95,   т.е. можно использовать правило двух сигм    "
   ]
  },
  {
   "cell_type": "code",
   "execution_count": 6,
   "id": "72c05d1c",
   "metadata": {},
   "outputs": [],
   "source": [
    "mean_std = np.sqrt(16) / 256"
   ]
  },
  {
   "cell_type": "code",
   "execution_count": 7,
   "id": "95869697",
   "metadata": {},
   "outputs": [
    {
     "data": {
      "text/plain": [
       "(79.96922952234611, 80.03077047765389)"
      ]
     },
     "execution_count": 7,
     "metadata": {},
     "output_type": "execute_result"
    }
   ],
   "source": [
    "t_stat(80, mean_std,256 - 1, 0.05, 'two-sided')"
   ]
  },
  {
   "cell_type": "markdown",
   "id": "1313f5c4",
   "metadata": {},
   "source": [
    "### ЗАДАЧА 2.\n",
    "\n",
    "В результате 10 независимых измерений некоторой величины X, выполненных с одинаковой точностью,\n",
    "получены опытные данные:\\\n",
    "6.9, 6.1, 6.2, 6.8, 7.5, 6.3, 6.4, 6.9, 6.7, 6.1\\\n",
    "Предполагая, что результаты измерений подчинены нормальному закону распределения вероятностей,\n",
    "оценить истинное значение величины X при помощи доверительного интервала, покрывающего это\n",
    "значение с доверительной вероятностью 0,95."
   ]
  },
  {
   "cell_type": "code",
   "execution_count": 2,
   "id": "6548227c",
   "metadata": {},
   "outputs": [],
   "source": [
    "X = np.array([6.9, 6.1, 6.2, 6.8, 7.5, 6.3, 6.4, 6.9, 6.7, 6.1])\n",
    "mean_X = X.mean()\n",
    "std_X = X.std(ddof=1)\n",
    "mean_std_X = std_X / (np.sqrt(len(X)))"
   ]
  },
  {
   "cell_type": "code",
   "execution_count": 5,
   "id": "3f4c2074",
   "metadata": {},
   "outputs": [
    {
     "data": {
      "text/plain": [
       "(6.267515851415713, 6.912484148584288)"
      ]
     },
     "execution_count": 5,
     "metadata": {},
     "output_type": "execute_result"
    }
   ],
   "source": [
    "t_stat(mean_X, mean_std_X,len(X) - 1, 0.05, 'two-sided')"
   ]
  },
  {
   "cell_type": "markdown",
   "id": "77d89ed7",
   "metadata": {},
   "source": [
    "### ЗАДАЧА 3.\n",
    "\n",
    "Утверждается, что шарики для подшипников, изготовленные автоматическим станком, имеют средний диаметр 17 мм.\\\n",
    "Используя односторонний критерий с α=0,05, проверить эту гипотезу, если в выборке из n=100 шариков\\\n",
    "средний диаметр оказался равным 17.5 мм\\\n",
    "а дисперсия известна и равна 4 мм."
   ]
  },
  {
   "cell_type": "markdown",
   "id": "5996b722",
   "metadata": {},
   "source": [
    "Основная гипотеза       - H0: M(X) = 17\n",
    "Альтернативная гипотеза - H1: M(X) = 17.5"
   ]
  },
  {
   "cell_type": "code",
   "execution_count": 8,
   "id": "9cf12ced",
   "metadata": {},
   "outputs": [
    {
     "data": {
      "text/plain": [
       "1.25"
      ]
     },
     "execution_count": 8,
     "metadata": {},
     "output_type": "execute_result"
    }
   ],
   "source": [
    "U_fact = (17.5 - 17) / 4 * np.sqrt(100)\n",
    "U_fact"
   ]
  },
  {
   "cell_type": "markdown",
   "id": "80221ef1",
   "metadata": {},
   "source": [
    "По таблице функции Лапласа найдем критическую точку для односторонней критической области\n",
    "при гипотезе H1 : µ > 17\n",
    "по уровню значимости α = 0,05\n",
    "\n",
    "U_cr = 1.645\n",
    "\n",
    "U_fact < U_cr\n",
    "\n",
    "Нулевая гипотеза принимается"
   ]
  },
  {
   "cell_type": "markdown",
   "id": "bae89292",
   "metadata": {},
   "source": [
    "### ЗАДАЧА 4.\n",
    "\n",
    "Продавец утверждает, что средний вес пачки печенья составляет 200 г.\\\n",
    "Из партии извлечена выборка из 10 пачек. Вес каждой пачки составляет:\\\n",
    "202, 203, 199, 197, 195, 201, 200, 204, 194, 190.\\\n",
    "Известно, что их веса распределены нормально.\\\n",
    "Верно ли утверждение продавца, если учитывать, что доверительная вероятность равна 99%?"
   ]
  },
  {
   "cell_type": "markdown",
   "id": "4ce6ba7f",
   "metadata": {},
   "source": [
    "Основная гипотеза       - H0: M  = 200\n",
    "Альтернативная гипотеза - H1: M  ≠ 200 "
   ]
  },
  {
   "cell_type": "code",
   "execution_count": 10,
   "id": "5fe8c4c7",
   "metadata": {},
   "outputs": [],
   "source": [
    "# обработаем показатели выборки:\n",
    "X = np.array([202, 203, 199, 197, 195, 201, 200, 204, 194, 190])\n",
    "# вычислим среднее знач.\n",
    "mean_X = X.mean()\n",
    "\n",
    "std_X = X.std(ddof=1)"
   ]
  },
  {
   "cell_type": "code",
   "execution_count": 11,
   "id": "613fb4f7",
   "metadata": {},
   "outputs": [
    {
     "data": {
      "text/plain": [
       "-1.0651074037450896"
      ]
     },
     "execution_count": 11,
     "metadata": {},
     "output_type": "execute_result"
    }
   ],
   "source": [
    "t_fact = (mean_X - 200) / std_X * np.sqrt(10)\n",
    "t_fact"
   ]
  },
  {
   "cell_type": "markdown",
   "id": "f66385a7",
   "metadata": {},
   "source": [
    "По таблице критических точек распределения Стьюдента найдем критическую точку по\n",
    "уровню значимости α = 0,01 и числу степеней свободы k = 9 , откуда  кр t ≈ 3,25.\n",
    "\n",
    "t_cr = 3.25"
   ]
  },
  {
   "cell_type": "markdown",
   "id": "df817d61",
   "metadata": {},
   "source": [
    "abs(t_fact) < t_cr\n",
    "\n",
    "основная гипотеза принимается"
   ]
  }
 ],
 "metadata": {
  "kernelspec": {
   "display_name": "Python 3 (ipykernel)",
   "language": "python",
   "name": "python3"
  },
  "language_info": {
   "codemirror_mode": {
    "name": "ipython",
    "version": 3
   },
   "file_extension": ".py",
   "mimetype": "text/x-python",
   "name": "python",
   "nbconvert_exporter": "python",
   "pygments_lexer": "ipython3",
   "version": "3.9.12"
  }
 },
 "nbformat": 4,
 "nbformat_minor": 5
}
