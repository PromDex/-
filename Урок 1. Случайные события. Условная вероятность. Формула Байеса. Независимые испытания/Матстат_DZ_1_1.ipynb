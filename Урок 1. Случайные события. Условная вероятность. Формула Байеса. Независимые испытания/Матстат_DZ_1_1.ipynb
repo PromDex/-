{
 "cells": [
  {
   "cell_type": "markdown",
   "metadata": {
    "id": "G2wMw7vtsFIu"
   },
   "source": [
    "## Урок 1. ДЗ \n",
    "## Теория вероятности\n",
    "### Случайные события. Условная вероятность. Формула Байеса.  Независимые испытания"
   ]
  },
  {
   "cell_type": "code",
   "execution_count": 113,
   "metadata": {},
   "outputs": [],
   "source": [
    "import numpy as np\n",
    "from math import factorial"
   ]
  },
  {
   "cell_type": "markdown",
   "metadata": {},
   "source": [
    "**функция для подсчёта ПЕРЕСТАНОВОК из  𝑛  элементов\n",
    "при перестановках важен порядок, но отличие от размещений в том, что применяются все имеющиеся  𝑛  элементы:**\n",
    "\n",
    "$$P_n = n!$$"
   ]
  },
  {
   "cell_type": "code",
   "execution_count": 114,
   "metadata": {},
   "outputs": [],
   "source": [
    "def permutations(n):\n",
    "    return int(factorial(n))"
   ]
  },
  {
   "cell_type": "markdown",
   "metadata": {},
   "source": [
    "**функция для подсчёта РАЗМЕЩЕНИЙ k-элементов  из n-элементов .\n",
    "При размещениях порядок важен, поэтому вариантов размещения может быть больше, чем сочетаний при заданных  𝑘  и  𝑛 .**\n",
    "$$A_n^k = \\frac{n!}{(n - k)!}$$"
   ]
  },
  {
   "cell_type": "code",
   "execution_count": 116,
   "metadata": {},
   "outputs": [],
   "source": [
    "def arrangements(n, k):\n",
    "    return int(factorial(n) / factorial(n - k))"
   ]
  },
  {
   "cell_type": "markdown",
   "metadata": {},
   "source": [
    "**функция для подсчёта СОЧЕТАНИЙ k-элементов выбранных из n-элементов (в сочетаниях порядок не важен):**\n",
    "\n",
    "$$C_n^k = \\frac{n!}{k!(n - k)!}$$"
   ]
  },
  {
   "cell_type": "code",
   "execution_count": 115,
   "metadata": {},
   "outputs": [],
   "source": [
    "def combinations(n, k):\n",
    "    return int(factorial(n) / (factorial(k) * factorial(n - k)))"
   ]
  },
  {
   "cell_type": "markdown",
   "metadata": {},
   "source": [
    "**ЗАДАЧА 1.**\\\n",
    "Из колоды в 52 карты извлекаются случайным образом 4 карты.\\\n",
    "a) Найти вероятность того, что все карты – крести.\\\n",
    "б) Найти вероятность, что среди 4-х карт окажется хотя бы один туз."
   ]
  },
  {
   "cell_type": "code",
   "execution_count": 134,
   "metadata": {},
   "outputs": [
    {
     "data": {
      "text/plain": [
       "270725.0"
      ]
     },
     "execution_count": 134,
     "metadata": {},
     "output_type": "execute_result"
    }
   ],
   "source": [
    "# Вначале воспользуемся формулой для вычисления количества всех сочетаний 4-х карт из 52:\n",
    "\n",
    "n = (factorial(52) / (factorial(4) * factorial(52 - 4)))\n",
    "n"
   ]
  },
  {
   "cell_type": "code",
   "execution_count": 118,
   "metadata": {},
   "outputs": [
    {
     "data": {
      "text/plain": [
       "715.0"
      ]
     },
     "execution_count": 118,
     "metadata": {},
     "output_type": "execute_result"
    }
   ],
   "source": [
    "# крестей как и других мастей в колоде по: 52/4 = 13 карт.\n",
    "# найдём сочетания 4 карт ко всем сочетаниям карт одной масти, к примеру крестей.\n",
    "m = (factorial(13) / (factorial(4) * factorial(13 - 4)))\n",
    "m"
   ]
  },
  {
   "cell_type": "code",
   "execution_count": 119,
   "metadata": {},
   "outputs": [
    {
     "name": "stdout",
     "output_type": "stream",
     "text": [
      "Вероятность того, что все карты - крести = 0.0026\n"
     ]
    }
   ],
   "source": [
    "# Р(А) = m/n\n",
    "\n",
    "print(f'Вероятность того, что все карты - крести = {m/n :.4f}')"
   ]
  },
  {
   "cell_type": "code",
   "execution_count": 133,
   "metadata": {},
   "outputs": [
    {
     "data": {
      "text/plain": [
       "52.0"
      ]
     },
     "execution_count": 133,
     "metadata": {},
     "output_type": "execute_result"
    }
   ],
   "source": [
    "# Тузов в колоде всего 4. Вероятность выбрать из колоды хотя бы один туз:\n",
    "n2 = (factorial(52) / (factorial(1) * factorial(52 - 1)))\n",
    "n2"
   ]
  },
  {
   "cell_type": "code",
   "execution_count": 139,
   "metadata": {},
   "outputs": [
    {
     "name": "stdout",
     "output_type": "stream",
     "text": [
      "Вероятность того, что в выбранных крестях окажется один туз = 0.00005\n"
     ]
    }
   ],
   "source": [
    "# Р(А) = m/n\n",
    "print(f'Вероятность того, что в выбранных крестях окажется один туз = {0.0026/n2 :.5f}')"
   ]
  },
  {
   "cell_type": "markdown",
   "metadata": {},
   "source": [
    "**ЗАДАЧА 2.**\\\n",
    "На входной двери подъезда установлен кодовый замок, содержащий десять кнопок с цифрами от 0 до 9.\\\n",
    "Код содержит три цифры, которые нужно нажать одновременно.\\\n",
    "Какова вероятность того, что человек, не знающий код, откроет дверь с первой попытки?"
   ]
  },
  {
   "cell_type": "markdown",
   "metadata": {},
   "source": [
    "**решение:**  число всех возможных сочетаний 3-х обьектов из 10 находится по формуле сочетания:\n",
    "\n",
    "$$C_n^k = \\frac{n!}{k!(n - k)!}$$"
   ]
  },
  {
   "cell_type": "code",
   "execution_count": 120,
   "metadata": {},
   "outputs": [
    {
     "data": {
      "text/plain": [
       "120.0"
      ]
     },
     "execution_count": 120,
     "metadata": {},
     "output_type": "execute_result"
    }
   ],
   "source": [
    "(factorial(10) / (factorial(3) * factorial(10 - 3)))"
   ]
  },
  {
   "cell_type": "code",
   "execution_count": 121,
   "metadata": {},
   "outputs": [
    {
     "data": {
      "text/plain": [
       "120"
      ]
     },
     "execution_count": 121,
     "metadata": {},
     "output_type": "execute_result"
    }
   ],
   "source": [
    "# либо используя функцию\n",
    "combinations(10, 3)"
   ]
  },
  {
   "cell_type": "markdown",
   "metadata": {},
   "source": [
    "**ответ:**  вероятность угадать с первого раза: 1 из 120"
   ]
  },
  {
   "cell_type": "markdown",
   "metadata": {},
   "source": [
    "**ЗАДАЧА 3.**\\\n",
    "В ящике имеется 15 деталей, из которых 9 окрашены.\\\n",
    "Рабочий случайным образом извлекает 3 детали.\\\n",
    "Какова вероятность того, что все извлеченные детали окрашены?"
   ]
  },
  {
   "cell_type": "code",
   "execution_count": 122,
   "metadata": {},
   "outputs": [
    {
     "data": {
      "text/plain": [
       "455.0"
      ]
     },
     "execution_count": 122,
     "metadata": {},
     "output_type": "execute_result"
    }
   ],
   "source": [
    "#  Найдём все возможные сочетания 3 деталей ко всем имеющимся деталям. Это все равновероятные исходы.\n",
    "\n",
    "m = (factorial(15) / (factorial(3) * factorial(15 - 3)))\n",
    "m"
   ]
  },
  {
   "cell_type": "code",
   "execution_count": 123,
   "metadata": {},
   "outputs": [
    {
     "data": {
      "text/plain": [
       "84.0"
      ]
     },
     "execution_count": 123,
     "metadata": {},
     "output_type": "execute_result"
    }
   ],
   "source": [
    "#  Найдём все возможное сочетание 3-х деталей из 9-и окрашенных деталей.\n",
    "\n",
    "n = (factorial(9) / (factorial(3) * factorial(9 - 3)))\n",
    "n"
   ]
  },
  {
   "cell_type": "code",
   "execution_count": 124,
   "metadata": {},
   "outputs": [
    {
     "data": {
      "text/plain": [
       "0.18461538461538463"
      ]
     },
     "execution_count": 124,
     "metadata": {},
     "output_type": "execute_result"
    }
   ],
   "source": [
    "# определим вероятность выбора только окрашенных деталей из всех возможных.\n",
    "P = n/m\n",
    "P"
   ]
  },
  {
   "cell_type": "code",
   "execution_count": 125,
   "metadata": {},
   "outputs": [
    {
     "name": "stdout",
     "output_type": "stream",
     "text": [
      "Вероятность выбрать 3 окрашенные детали: 0.18\n"
     ]
    }
   ],
   "source": [
    "# либо используя функции:\n",
    "\n",
    "P = combinations(9, 3)/combinations(15, 3)\n",
    "print(f'Вероятность выбрать 3 окрашенные детали: {P :.2f}')"
   ]
  },
  {
   "cell_type": "markdown",
   "metadata": {},
   "source": [
    "**ЗАДАЧА 4.**\\\n",
    "В лотерее 100 билетов. Из них 2 выигрышных.\\\n",
    "Какова вероятность того, что 2 приобретенных билета окажутся выигрышными?"
   ]
  },
  {
   "cell_type": "markdown",
   "metadata": {},
   "source": [
    "**решение:** имеем различные сочетания независящих друг от друга 2-х различных предметов из 100. Применяем формулу сочетания.\n",
    "\n",
    "$$C_n^k = \\frac{n!}{k!(n - k)!}$$"
   ]
  },
  {
   "cell_type": "code",
   "execution_count": 126,
   "metadata": {},
   "outputs": [
    {
     "data": {
      "text/plain": [
       "4950.0"
      ]
     },
     "execution_count": 126,
     "metadata": {},
     "output_type": "execute_result"
    }
   ],
   "source": [
    "С = (factorial(100) / (factorial(2) * factorial(100 - 2)))\n",
    "С"
   ]
  },
  {
   "cell_type": "code",
   "execution_count": 127,
   "metadata": {},
   "outputs": [
    {
     "data": {
      "text/plain": [
       "4950"
      ]
     },
     "execution_count": 127,
     "metadata": {},
     "output_type": "execute_result"
    }
   ],
   "source": [
    "# либо используя функцию:\n",
    "combinations(100, 2)"
   ]
  },
  {
   "cell_type": "markdown",
   "metadata": {},
   "source": [
    "**ответ:** вероятность угадать 2 выигрышных билета из 100:  1 из 4950"
   ]
  },
  {
   "cell_type": "markdown",
   "metadata": {},
   "source": [
    "**ЗАДАЧА 5.**\\\n",
    "На соревновании по биатлону один из трех спортсменов стреляет и попадает в мишень.\\\n",
    "Вероятность попадания для первого спортсмена равна 0.9, для второго — 0.8, для третьего — 0.6.\\\n",
    "Найти вероятность того, что выстрел произведен:\\\n",
    "a). первым спортсменом\\\n",
    "б). вторым спортсменом\\\n",
    "в). третьим спортсменом."
   ]
  },
  {
   "cell_type": "markdown",
   "metadata": {},
   "source": [
    "**решение**\n",
    "\n",
    "пусть:\n",
    "\n",
    "Событие А1 - Первый стрелок попал в цель.\\\n",
    "Событие А2 - Второй стрелок попал в цель.\\\n",
    "Событие А3 - Третий стрелок попал в цель.\n",
    "\n",
    " известно:\n",
    " \n",
    "вероятность попадания для первого  спортсмена P(A1) = p1 = 0.9\\\n",
    "вероятность попадания для второго  спортсмена P(A2) = p2 = 0.8\\\n",
    "вероятность попадания для третьего спортсмена P(A3) = p3 = 0.6\n",
    "\n",
    "по условию кто то из них попал, поэтому общая вероятность = 100%\\\n",
    "P(A1)+P(A2)+P(A3) = 1 \n",
    "\n",
    "подсчитаем вероятности НЕпопадания для каждого спортсмена:\\\n",
    "q1 = 1 - 0.9 = 0.1\\\n",
    "q2 = 1 - 0.8 = 0.2\\\n",
    "q3 = 1 - 0.6 = 0.4\n",
    "\n",
    "теперь рассмотрим все варианты исхода выстрела\n",
    "\n",
    "\n",
    "$$P1=\\\n",
    "P(A1)⋅P(\\overline{A2})⋅P(\\overline{A3})+P(\\overline{A1})⋅P(A2)⋅P(\\overline{A3})+P(\\overline{A1})⋅P(\\overline{A2})⋅P(A3)$$\n",
    "\n",
    "P1=p1⋅q2⋅q3+q1⋅p2⋅q3+q1⋅q2⋅p3 == 0,9 ⋅ 0,2 ⋅ 0,4 + 0,1 ⋅ 0,8 ⋅ 0,4 + 0,1 ⋅ 0,2 ⋅ 0,6\n"
   ]
  },
  {
   "cell_type": "code",
   "execution_count": 128,
   "metadata": {},
   "outputs": [
    {
     "data": {
      "text/plain": [
       "0.116"
      ]
     },
     "execution_count": 128,
     "metadata": {},
     "output_type": "execute_result"
    }
   ],
   "source": [
    "# непонятное решение )))  моё )))\n",
    "#P1 = 0.9 * 0.2 * 0.4 + 0.1 * 0.8 * 0.4 + 0.1 * 0.2 * 0.6\n",
    "#P1"
   ]
  },
  {
   "cell_type": "code",
   "execution_count": 1,
   "metadata": {},
   "outputs": [
    {
     "data": {
      "text/plain": [
       "0.7666666666666666"
      ]
     },
     "execution_count": 1,
     "metadata": {},
     "output_type": "execute_result"
    }
   ],
   "source": [
    "# Общая вероятность\n",
    "A = 1/3 * 0.9 + 1/3 * 0.8 + 1/3 * 0.6\n",
    "A"
   ]
  },
  {
   "cell_type": "code",
   "execution_count": 2,
   "metadata": {},
   "outputs": [
    {
     "data": {
      "text/plain": [
       "0.391304347826087"
      ]
     },
     "execution_count": 2,
     "metadata": {},
     "output_type": "execute_result"
    }
   ],
   "source": [
    "# для первого спортсмена\n",
    "\n",
    "(1/3 * 0.9) / A"
   ]
  },
  {
   "cell_type": "code",
   "execution_count": 3,
   "metadata": {},
   "outputs": [
    {
     "data": {
      "text/plain": [
       "0.3478260869565218"
      ]
     },
     "execution_count": 3,
     "metadata": {},
     "output_type": "execute_result"
    }
   ],
   "source": [
    "# для второго спортсмена\n",
    "\n",
    "(1/3 * 0.8) / A"
   ]
  },
  {
   "cell_type": "code",
   "execution_count": 4,
   "metadata": {},
   "outputs": [
    {
     "data": {
      "text/plain": [
       "0.3478260869565218"
      ]
     },
     "execution_count": 4,
     "metadata": {},
     "output_type": "execute_result"
    }
   ],
   "source": [
    "# для третьего спортсмена\n",
    "\n",
    "(1/3 * 0.8) / A"
   ]
  }
 ],
 "metadata": {
  "colab": {
   "collapsed_sections": [
    "sZKDq8ZWsFJ2",
    "dWGTf84XsFKA",
    "7euBINZMsFKw"
   ],
   "name": "Матстат - Урок 1.ipynb",
   "provenance": []
  },
  "kernelspec": {
   "display_name": "Python 3 (ipykernel)",
   "language": "python",
   "name": "python3"
  },
  "language_info": {
   "codemirror_mode": {
    "name": "ipython",
    "version": 3
   },
   "file_extension": ".py",
   "mimetype": "text/x-python",
   "name": "python",
   "nbconvert_exporter": "python",
   "pygments_lexer": "ipython3",
   "version": "3.9.12"
  }
 },
 "nbformat": 4,
 "nbformat_minor": 1
}
