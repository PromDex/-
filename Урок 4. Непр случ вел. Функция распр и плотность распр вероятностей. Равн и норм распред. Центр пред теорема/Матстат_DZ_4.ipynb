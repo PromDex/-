{
 "cells": [
  {
   "cell_type": "markdown",
   "id": "ae59f578",
   "metadata": {},
   "source": [
    "## Урок 4. ДЗ \n",
    "## Теория вероятности\n",
    "### Урок 4. Непрерывные случайные величины. Функция распределения и плотность распределения вероятностей. Равномерное и нормальное распределение. Центральная предельная теорема"
   ]
  },
  {
   "cell_type": "code",
   "execution_count": 1,
   "id": "996c1883",
   "metadata": {},
   "outputs": [],
   "source": [
    "import numpy as np\n",
    "import pandas as pd\n",
    "from math import factorial as f\n",
    "import matplotlib.pyplot as plt\n",
    "import warnings\n",
    "warnings.filterwarnings('ignore')"
   ]
  },
  {
   "cell_type": "markdown",
   "id": "24b5360a",
   "metadata": {},
   "source": [
    "### ЗАДАЧА 1.\n",
    "\n",
    "Случайная непрерывная величина A имеет равномерное распределение на промежутке (200, 800].\\\n",
    "Найдите ее среднее значение и дисперсию."
   ]
  },
  {
   "cell_type": "code",
   "execution_count": 2,
   "id": "cf0bf1b3",
   "metadata": {},
   "outputs": [],
   "source": [
    "# решение\n",
    "# (200, 800] == а < x ≤ b == 200 < x ≤ 800\n",
    "\n",
    "# решение - пока нет"
   ]
  },
  {
   "cell_type": "markdown",
   "id": "0729ca1d",
   "metadata": {},
   "source": [
    "### ЗАДАЧА 2.\n",
    "\n",
    "О случайной непрерывной равномерно распределенной величине B известно, что ее дисперсия равна 0.2.\\\n",
    "Можно ли найти правую границу величины B и ее среднее значение зная, что левая граница равна 0.5?\\\n",
    "Если да, найдите ее."
   ]
  },
  {
   "cell_type": "markdown",
   "id": "090bf3b8",
   "metadata": {},
   "source": [
    "решение:\n",
    "$$D(X) = \\frac{(b - a)^2}{12}$$\n",
    "где a= 0.5\n",
    "из этой формулы выразим b\n",
    "$$0.2 = \\frac{{(0.5 + b)}^2}{12}$$\n"
   ]
  },
  {
   "cell_type": "code",
   "execution_count": 3,
   "id": "03e32109",
   "metadata": {
    "scrolled": true
   },
   "outputs": [
    {
     "name": "stdout",
     "output_type": "stream",
     "text": [
      "Правая граница = 2.049\n"
     ]
    }
   ],
   "source": [
    "a = 0.5\n",
    "c = np.sqrt(2.4) # т.к мы ищем правую границу, то b может быть только положительной величиной.\n",
    "b = c + a\n",
    "print(f'Правая граница = {b :.3f}')"
   ]
  },
  {
   "cell_type": "markdown",
   "id": "005df250",
   "metadata": {},
   "source": [
    "Теперь найдём среднее значение по формуле:\n",
    "$$M(X) = \\frac{a + b}{2}$$"
   ]
  },
  {
   "cell_type": "code",
   "execution_count": 4,
   "id": "d8ff365a",
   "metadata": {},
   "outputs": [
    {
     "name": "stdout",
     "output_type": "stream",
     "text": [
      "Среднее значение = 1.275\n"
     ]
    }
   ],
   "source": [
    "M = (a+b)/2\n",
    "print(f'Среднее значение = {M :.3f}')"
   ]
  },
  {
   "cell_type": "markdown",
   "id": "6412a3b7",
   "metadata": {},
   "source": [
    "### ЗАДАЧА 3.\n",
    "\n",
    "Непрерывная случайная величина X распределена нормально и задана плотностью распределения:\n",
    "\n",
    "##### f(x) = (1 / (4 * sqrt(2*pi))) * (exp(-(x+2)**2) / 32)\n",
    "\n",
    "Найдите:\n",
    "\n",
    "а). M(X)\\\n",
    "б). D(X)\\\n",
    "в). std(X) (среднее квадратичное отклонение)"
   ]
  },
  {
   "cell_type": "code",
   "execution_count": 41,
   "id": "a1385571",
   "metadata": {},
   "outputs": [],
   "source": [
    "# сходу не понял как делать \n",
    "\n",
    "def plotin(x):\n",
    "    return (1 / (4 * np.sqrt(2*np.pi))) * (np.exp(-(x+2)*2) / 32)\n",
    "\n",
    "t = np.linspace(-100, 100, 200)\n",
    "\n",
    "f = plotin(t)"
   ]
  },
  {
   "cell_type": "code",
   "execution_count": 42,
   "id": "20fc80f8",
   "metadata": {},
   "outputs": [
    {
     "data": {
      "image/png": "[encoded data removed]",
      "text/plain": [
       "<Figure size 432x288 with 1 Axes>"
      ]
     },
     "metadata": {
      "needs_background": "light"
     },
     "output_type": "display_data"
    }
   ],
   "source": [
    "plt.plot(t,f , color='Green')\n",
    "plt.title('График f(t)')\n",
    "plt.xlabel('Значения t')\n",
    "plt.ylabel('Значения f')\n",
    "plt.axis([-100, 100 , -100, 100 ])\n",
    "plt.show()"
   ]
  },
  {
   "cell_type": "code",
   "execution_count": null,
   "id": "4ebfc109",
   "metadata": {},
   "outputs": [],
   "source": [
    "# решение \n",
    "\n",
    "# Для непрерывной случайной величины X, распределенной нормально, с плотностью распределения\n",
    "\n",
    "f(x)=142πe−(x+2)232f(x)=42π\n",
    "\n",
    "​1​e−32(x+2)2​\n",
    "\n",
    "# где M(X)M(X) - математическое ожидание, D(X)D(X) - дисперсия,\n",
    "#     std(X)std(X) - среднеквадратичное отклонение.\n",
    "\n",
    "# Давайте вычислим каждое из них:\n",
    "\n",
    "#а) Математическое ожидание M(X)M(X):\n",
    "\n",
    "M(X)=∫−∞∞x⋅f(x) dxM(X)=∫−∞∞​x⋅f(x)dx\n",
    "\n",
    "M(X)=∫−∞∞x⋅142πe−(x+2)232 dxM(X)=∫−∞∞​x⋅42π\n",
    "\n",
    "​1​e−32(x+2)2​dx\n",
    "\n",
    "#Мы видим, что интеграл здесь может быть сложен,\n",
    "#но это требует численных методов или компьютерного программирования.\n",
    "# Воспользуемся языком программирования Python и библиотекой SciPy для численного интегрирования:\n",
    "\n",
    "\n",
    "from scipy.integrate import quad\n",
    "import numpy as np\n",
    "\n",
    "# Определение функции плотности распределения\n",
    "def f(x):\n",
    "    return (1 / (4 * np.sqrt(2 * np.pi))) * np.exp(-(x + 2)**2 / 32)\n",
    "\n",
    "# Вычисление математического ожидания\n",
    "mean, _ = quad(lambda x: x * f(x), -np.inf, np.inf)\n",
    "\n",
    "print(f\"Математическое ожидание M(X): {mean:.4f}\")\n",
    "\n",
    "# б) Дисперсия D(X)D(X):\n",
    "\n",
    "D(X)=∫−∞∞(x−M(X))2⋅f(x) dxD(X)=∫−∞∞​(x−M(X))2⋅f(x)dx\n",
    "\n",
    "#Аналогично, мы воспользуемся численным интегрированием:\n",
    "\n",
    "\n",
    "# Вычисление дисперсии\n",
    "variance, _ = quad(lambda x: (x - mean)**2 * f(x), -np.inf, np.inf)\n",
    "\n",
    "print(f\"Дисперсия D(X): {variance:.4f}\")\n",
    "\n",
    "#в) Среднеквадратичное отклонение std(X)std(X):\n",
    "\n",
    "std(X)=D(X)std(X)=D(X)\n",
    "\n",
    "\n",
    "\n",
    "# Вычисление среднеквадратичного отклонения\n",
    "std_deviation = np.sqrt(variance)\n",
    "\n",
    "print(f\"Среднеквадратичное отклонение std(X): {std_deviation:.4f}\")"
   ]
  },
  {
   "cell_type": "markdown",
   "id": "4e37335d",
   "metadata": {},
   "source": [
    "### ЗАДАЧА 4.\n",
    "\n",
    "Рост взрослого населения города X имеет нормальное распределение.\\\n",
    "Причем, средний рост равен 174 см, а среднее квадратичное отклонение равно 8 см.\\\n",
    "Какова вероятность того, что случайным образом выбранный взрослый человек имеет рост:\n",
    "\n",
    "а). больше 182 см\\\n",
    "б). больше 190 см\\\n",
    "в). от 166 см до 190 см\\\n",
    "г). от 166 см до 182 см\\\n",
    "д). от 158 см до 190 см\\\n",
    "е). не выше 150 см или не ниже 190 см\\\n",
    "ё). не выше 150 см или не ниже 198 см\\\n",
    "ж). ниже 166 см."
   ]
  },
  {
   "cell_type": "markdown",
   "id": "abf52c15",
   "metadata": {},
   "source": [
    "решение:\n",
    "Используем формулу для нахождения вероятности попадания нормальной случайной величины в интервал:\n",
    "\n",
    "\n",
    "$$  P(\\alpha<X<\\beta) = \\Phi\\left(\\frac{\\beta- a}{\\sigma}\\right) - \\Phi\\left(\\frac{\\alpha-a}{\\sigma}\\right)$$\n",
    "\n",
    "где Ф(x) - функция Лапласа( значения берутся из таблицы).\n",
    "\n",
    "подставляем для случая:\n",
    "\n",
    "\n",
    "#### а) больше 182 см\n",
    "$$P(182<X<\\infty) = 1-\\Phi\\left(\\frac{182 - 174}{8}\\right)$$\n",
    "\n",
    "$$ P(X=\\infty)= 1,  P(182<X<\\infty)= 1- \\Phi(1),  P(182<X<\\infty) = 1-0.3413,  P(182<X<\\infty)=0.6587 $$\n",
    "\n",
    "\n",
    "#### б) больше 190 см\n",
    "$$P(190<X<\\infty) = 1-\\Phi\\left(\\frac{190 - 174}{8}\\right)$$\n",
    "\n",
    "$$P(X=\\infty)= 1,  P(190<X<\\infty)= 1- \\Phi(2),  P(190<X<\\infty) = 1-0.4772,  P(182<X<\\infty)=0.5228$$\n",
    "\n",
    "\n",
    "#### в) от 166 см до 190 см\n",
    "\n",
    "$$P(166<X<190) = \\Phi\\left(\\frac{190-174}{8}\\right) - \\Phi\\left(\\frac{166-174}{8}\\right)$$\n",
    "\n",
    "\n",
    "$$P(166<X<\\infty) = 0+\\Phi(1), P(166<X<\\infty) = 0.3413$$\n",
    "\n",
    "\n",
    "#### г) от 166 см до 182 см\n",
    "\n",
    "$$P(166<X<182) = \\Phi\\left(\\frac{182-174}{8}\\right) - \\Phi\\left(\\frac{166-174}{8}\\right)$$\n",
    "\n",
    "$P(166<X<182) = \\Phi(1) + \\Phi(1),P(166<X<190)=0.3413 + 0.3413 = 0.6826$\n",
    "\n",
    "\n",
    "#### д) от 158 см до 190 см\n",
    "\n",
    "$$P(158<X<190) = \\Phi\\left(\\frac{190-174}{8}\\right) - \\Phi\\left(\\frac{158-174}{8}\\right)$$\n",
    "\n",
    "$$P(158<X<190) = \\Phi(2) + \\Phi(2),P(158<X<190)=0.4772 + 0.4772 = 0.9544$$\n",
    "\n",
    "\n",
    "#### е) не выше 150 см или не ниже 190 см\n",
    "\n",
    "Найдём сначала P(150<X<190) и отнимем полученную вероятность от 1.\n",
    "\n",
    "$$P(150<X<190) = \\Phi\\left(\\frac{190-174}{8}\\right) - \\Phi\\left(\\frac{150-174}{8}\\right)$$\n",
    "\n",
    "$$P(150<X<190) = \\Phi(2) + \\Phi(3),P(150<X<190)=0.4772 + 0.49865 = 0.97585$$\n",
    "\n",
    "\n",
    "#### ё) не выше 150 см или не ниже 198 см\n",
    "\n",
    "Найдём сначала P(150<X<198) и отнимем полученную вероятность от 1.\n",
    "\n",
    "$$P(150<X<198) = \\Phi\\left(\\frac{198-174}{8}\\right) - \\Phi\\left(\\frac{150-174}{8}\\right)$$\n",
    "\n",
    "$$P(150<X<198) = \\Phi(3) + \\Phi(3),P(150<X<198)=0.49865 + 0.49865 = 0.9973$$\n",
    "\n",
    "\n",
    "#### ж) ниже 166 см\n",
    "\n",
    "$$P(-\\infty<X<166) = 0-\\Phi\\left(\\frac{166-174}{8}\\right)$$\n",
    "\n",
    "$$P(166<X<\\infty) = 0+\\Phi(1), P(166<X<\\infty) = 0.3413$$"
   ]
  },
  {
   "cell_type": "markdown",
   "id": "d8f35ede",
   "metadata": {},
   "source": [
    "### ЗАДАЧА 5.\n",
    "\n",
    "На сколько сигм (средних квадратичных отклонений) отклоняется рост человека, равный 190 см,\\\n",
    "от математического ожидания роста в популяции,\\\n",
    "в которой M(X) = 178 см и D(X) = 25 кв.см?\n"
   ]
  },
  {
   "cell_type": "markdown",
   "id": "dafff99d",
   "metadata": {},
   "source": [
    "решение:\n",
    "\n",
    "$ D(X) = 25 $\n",
    "\n",
    "$ D(X) = \\sigma^2 $\n",
    "\n",
    "$ \\sigma = 5 $\n",
    "\n",
    "$ 190 - 178 = 12 $\n",
    "\n",
    "$ 12/5 = 2.4 $"
   ]
  }
 ],
 "metadata": {
  "kernelspec": {
   "display_name": "Python 3 (ipykernel)",
   "language": "python",
   "name": "python3"
  },
  "language_info": {
   "codemirror_mode": {
    "name": "ipython",
    "version": 3
   },
   "file_extension": ".py",
   "mimetype": "text/x-python",
   "name": "python",
   "nbconvert_exporter": "python",
   "pygments_lexer": "ipython3",
   "version": "3.11.5"
  }
 },
 "nbformat": 4,
 "nbformat_minor": 5
}
