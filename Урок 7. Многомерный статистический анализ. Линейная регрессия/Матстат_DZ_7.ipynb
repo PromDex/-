{
 "cells": [
  {
   "cell_type": "markdown",
   "id": "c88fc6b3",
   "metadata": {},
   "source": [
    "## Урок 7. ДЗ \n",
    "## Теория вероятности\n",
    "### Многомерный статистический анализ. Линейная регрессия"
   ]
  },
  {
   "cell_type": "code",
   "execution_count": 2,
   "id": "0289711a",
   "metadata": {},
   "outputs": [],
   "source": [
    "import numpy as np\n",
    "import pandas as pd"
   ]
  },
  {
   "cell_type": "markdown",
   "id": "5e934aba",
   "metadata": {},
   "source": [
    "**ЗАДАЧА 1**\n",
    "\n",
    "Даны значения величины заработной платы заемщиков банка (salary) и значения их поведенческого кредитного скоринга (scoring):\\\n",
    "salary = [35, 45, 190, 200, 40, 70, 54, 150, 120, 110]\\\n",
    "scoring = [401, 574, 874, 919, 459, 739, 653, 902, 746, 832]\n",
    "\n",
    "Возьмём в качестве признака значение - salary,\\\n",
    "а в качестве целевой переменной - scoring.\\\n",
    "Найдите коэффициенты линейной регрессии с помощью формул для парной регрессии, а затем с помощью метода наименьших квадратов.\\\n",
    "Постройте scatter plot по данным и отметьте на нём прямую линейной регрессии, полученную в п. 1.\\\n",
    "Посчитайте коэффициент детерминации, среднюю ошибку аппроксимации.\\\n",
    "Оцените построенное уравнение регрессии с помощью F-критерия Фишера.\\\n",
    "Оцените значимость получившихся параметров уравнения регрессии\\\n",
    "и постройте для них доверительные интервалы с помощью t-статистики Стьюдента."
   ]
  },
  {
   "cell_type": "code",
   "execution_count": 9,
   "id": "6b0f04f0",
   "metadata": {},
   "outputs": [
    {
     "data": {
      "text/plain": [
       "9459.666666666668"
      ]
     },
     "execution_count": 9,
     "metadata": {},
     "output_type": "execute_result"
    }
   ],
   "source": [
    "salary  = [35, 45, 190, 200, 40, 70, 54, 150, 120, 110]\n",
    "df = pd.DataFrame(salary)\n",
    "df['salary'] = pd.DataFrame(salary)\n",
    "X = df['salary']\n",
    "\n",
    "scoring = [401, 574, 874, 919, 459, 739, 653, 902, 746, 83]\n",
    "df = pd.DataFrame(scoring)\n",
    "df['scoring'] = pd.DataFrame(scoring)\n",
    "Y = df['scoring']\n",
    "\n",
    "\n",
    "MX = X.mean()\n",
    "MY = Y.mean()\n",
    "\n",
    "#cov = ((X - MX) * (Y - MY)).mean()# с двумя этими формулами получается 8513.7\n",
    "#cov = (X * Y).mean() - MX * MY\n",
    "\n",
    "cov1 = ((X - MX) * (Y - MY)).sum() / (X.shape[0] - 1)\n",
    "cov1"
   ]
  },
  {
   "cell_type": "code",
   "execution_count": 5,
   "id": "6b0a14d9",
   "metadata": {},
   "outputs": [
    {
     "data": {
      "text/plain": [
       "3882.9333333333334"
      ]
     },
     "execution_count": 5,
     "metadata": {},
     "output_type": "execute_result"
    }
   ],
   "source": [
    "X.var()"
   ]
  },
  {
   "cell_type": "code",
   "execution_count": 10,
   "id": "81500076",
   "metadata": {},
   "outputs": [
    {
     "data": {
      "text/plain": [
       "69631.55555555556"
      ]
     },
     "execution_count": 10,
     "metadata": {},
     "output_type": "execute_result"
    }
   ],
   "source": [
    "Y.var()"
   ]
  },
  {
   "cell_type": "code",
   "execution_count": 11,
   "id": "f1a48fae",
   "metadata": {},
   "outputs": [
    {
     "data": {
      "text/plain": [
       "array([[ 3882.93333333,  9459.66666667],\n",
       "       [ 9459.66666667, 69631.55555556]])"
      ]
     },
     "execution_count": 11,
     "metadata": {},
     "output_type": "execute_result"
    }
   ],
   "source": [
    "cov2 = np.cov(X, Y)\n",
    "cov2"
   ]
  },
  {
   "cell_type": "code",
   "execution_count": 12,
   "id": "5c2c5ec7",
   "metadata": {},
   "outputs": [
    {
     "data": {
      "text/plain": [
       "0.575297938183201"
      ]
     },
     "execution_count": 12,
     "metadata": {},
     "output_type": "execute_result"
    }
   ],
   "source": [
    "corr = cov1 / (X.std() * Y.std())\n",
    "corr"
   ]
  },
  {
   "cell_type": "code",
   "execution_count": 13,
   "id": "e1f6699e",
   "metadata": {},
   "outputs": [
    {
     "data": {
      "text/html": [
       "<div>\n",
       "<style scoped>\n",
       "    .dataframe tbody tr th:only-of-type {\n",
       "        vertical-align: middle;\n",
       "    }\n",
       "\n",
       "    .dataframe tbody tr th {\n",
       "        vertical-align: top;\n",
       "    }\n",
       "\n",
       "    .dataframe thead th {\n",
       "        text-align: right;\n",
       "    }\n",
       "</style>\n",
       "<table border=\"1\" class=\"dataframe\">\n",
       "  <thead>\n",
       "    <tr style=\"text-align: right;\">\n",
       "      <th></th>\n",
       "      <th>salary</th>\n",
       "      <th>scoring</th>\n",
       "    </tr>\n",
       "  </thead>\n",
       "  <tbody>\n",
       "    <tr>\n",
       "      <th>salary</th>\n",
       "      <td>1.000000</td>\n",
       "      <td>0.575298</td>\n",
       "    </tr>\n",
       "    <tr>\n",
       "      <th>scoring</th>\n",
       "      <td>0.575298</td>\n",
       "      <td>1.000000</td>\n",
       "    </tr>\n",
       "  </tbody>\n",
       "</table>\n",
       "</div>"
      ],
      "text/plain": [
       "           salary   scoring\n",
       "salary   1.000000  0.575298\n",
       "scoring  0.575298  1.000000"
      ]
     },
     "execution_count": 13,
     "metadata": {},
     "output_type": "execute_result"
    }
   ],
   "source": [
    "df['salary'] = pd.DataFrame(salary)\n",
    "df['scoring'] = pd.DataFrame(scoring)\n",
    "\n",
    "df[['salary', 'scoring']].corr()"
   ]
  },
  {
   "cell_type": "code",
   "execution_count": 14,
   "id": "6fb09444",
   "metadata": {},
   "outputs": [
    {
     "data": {
      "text/plain": [
       "array([[1.        , 0.57529794],\n",
       "       [0.57529794, 1.        ]])"
      ]
     },
     "execution_count": 14,
     "metadata": {},
     "output_type": "execute_result"
    }
   ],
   "source": [
    "np.corrcoef(X, Y)"
   ]
  },
  {
   "cell_type": "markdown",
   "id": "c095d96a",
   "metadata": {},
   "source": [
    "**ЗАДАЧА 2**\n",
    "\n",
    "В каких случаях для вычисления доверительных интервалов и проверки статистических гипотез используется:\\\n",
    "таблица значений функции Лапласа,\\\n",
    "а в каких\\\n",
    "таблица квантилей распределения Стьюдента?"
   ]
  },
  {
   "cell_type": "markdown",
   "id": "cef6d82e",
   "metadata": {},
   "source": [
    "Я понял так:\n",
    "\n",
    "таблица значений функции Лапласа применяется когда необходимо найти вероятность попадания случайной величины,\\\n",
    "если выборка относительно не большая , распределенной по **нормальному закону**, в заданном интервале ,  уровнь значимости мал α = 0,1 т,е для низкой вероятности.\n",
    "\n",
    "\n",
    "\n",
    "таблица квантилей распределения Стьюдента применяется когда необходимо найти вероятность попадания случайной величины\\\n",
    "если выборка относительно большая , распределение может отличатся от нормального ,  уровнь значимости мал α = 0,01 т,е для высокой вероятности.\n",
    "\n",
    "\n",
    "\n",
    "Нигде точно не описана разница, пересмотрел лекции по многу раз пока общую суть не ухватил.\\\n",
    "Буду пересматривать дальше, тема очень понравилась."
   ]
  },
  {
   "cell_type": "code",
   "execution_count": null,
   "id": "daa69bb4-e0d3-4f8f-af6f-7fd7720779cb",
   "metadata": {},
   "outputs": [],
   "source": []
  }
 ],
 "metadata": {
  "kernelspec": {
   "display_name": "Python 3 (ipykernel)",
   "language": "python",
   "name": "python3"
  },
  "language_info": {
   "codemirror_mode": {
    "name": "ipython",
    "version": 3
   },
   "file_extension": ".py",
   "mimetype": "text/x-python",
   "name": "python",
   "nbconvert_exporter": "python",
   "pygments_lexer": "ipython3",
   "version": "3.11.5"
  }
 },
 "nbformat": 4,
 "nbformat_minor": 5
}
