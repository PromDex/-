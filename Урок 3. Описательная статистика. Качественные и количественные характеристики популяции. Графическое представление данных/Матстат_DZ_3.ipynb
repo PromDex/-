{
 "cells": [
  {
   "cell_type": "markdown",
   "id": "88c02c84",
   "metadata": {},
   "source": [
    "## Урок 1. ДЗ \n",
    "## Теория вероятности\n",
    "### Урок 3. Описательная статистика. Качественные и количественные характеристики популяции. Графическое представление данных"
   ]
  },
  {
   "cell_type": "code",
   "execution_count": 406,
   "id": "ac3f7fa6",
   "metadata": {},
   "outputs": [],
   "source": [
    "import numpy as np\n",
    "import pandas as pd\n",
    "from math import factorial\n",
    "import matplotlib.pyplot as plt\n",
    "import warnings\n",
    "warnings.filterwarnings('ignore')"
   ]
  },
  {
   "cell_type": "markdown",
   "id": "49cb2b6d",
   "metadata": {},
   "source": [
    "**ЗАДАЧА 1.**\\\n",
    "1.Даны значения зарплат из выборки выпускников: 100, 80, 75, 77, 89, 33, 45, 25, 65, 17, 30, 24, 57, 55, 70, 75, 65, 84, 90, 150.\\\n",
    "Посчитать (желательно без использования статистических методов наподобие std, var, mean)\n",
    "-  среднее арифметическое,\n",
    "-  среднее квадратичное отклонение,\n",
    "-  смещенную и несмещенную оценки дисперсий для данной выборки.\n",
    "-  Сделать графическую интерпретацию данных, проанализовать выбросы, посчитать квартили и интерквартильное расстояние"
   ]
  },
  {
   "cell_type": "markdown",
   "id": "358b907a",
   "metadata": {},
   "source": [
    "**решение:** посчитать **среднее арифметическое** без использования статистических методов наподобие std, var, mean\n",
    "\n",
    "$$M(X) = \\frac{1}{n} \\sum\\limits_{i=1}^{n} x_i$$\n",
    "\n",
    "где: x — значение, n — количество наблюдений.\n",
    "\n"
   ]
  },
  {
   "cell_type": "code",
   "execution_count": 407,
   "id": "0ca9dee0",
   "metadata": {},
   "outputs": [
    {
     "name": "stdout",
     "output_type": "stream",
     "text": [
      "Ответ:среднее арифметическое: 65.30\n"
     ]
    }
   ],
   "source": [
    "# вариант1(python)\n",
    "sample = [100, 80, 75, 77, 89, 33, 45, 25, 65, 17, 30, 24, 57, 55, 70, 75, 65, 84, 90, 150]\n",
    "sum = 0\n",
    "for i in range(len(sample)):\n",
    "    sum += sample[i]\n",
    "print(f'Ответ:среднее арифметическое: {sum/len(sample) :.2f}')"
   ]
  },
  {
   "cell_type": "code",
   "execution_count": 408,
   "id": "9410c1b1",
   "metadata": {},
   "outputs": [
    {
     "name": "stdout",
     "output_type": "stream",
     "text": [
      "      0\n",
      "0   100\n",
      "1    80\n",
      "2    75\n",
      "3    77\n",
      "4    89\n",
      "5    33\n",
      "6    45\n",
      "7    25\n",
      "8    65\n",
      "9    17\n",
      "10   30\n",
      "11   24\n",
      "12   57\n",
      "13   55\n",
      "14   70\n",
      "15   75\n",
      "16   65\n",
      "17   84\n",
      "18   90\n",
      "19  150\n"
     ]
    }
   ],
   "source": [
    "# вариант2(pandas- создание dataframe)\n",
    "df = pd.DataFrame(sample)\n",
    "print(df)"
   ]
  },
  {
   "cell_type": "code",
   "execution_count": 409,
   "id": "4e96e31d",
   "metadata": {},
   "outputs": [
    {
     "name": "stdout",
     "output_type": "stream",
     "text": [
      "Ответ:Среднее арифметическое: 0    65.3\n",
      "dtype: float64\n"
     ]
    }
   ],
   "source": [
    "print(f'Ответ:Среднее арифметическое: {df.sum()/df.count()}')"
   ]
  },
  {
   "cell_type": "code",
   "execution_count": 410,
   "id": "ff866733",
   "metadata": {},
   "outputs": [
    {
     "name": "stdout",
     "output_type": "stream",
     "text": [
      "Ответ:Среднее арифметическое: 0    65.3\n",
      "dtype: float64\n"
     ]
    }
   ],
   "source": [
    "# Cреднее арифметическое вариант 3.\n",
    "df_mean = df.sum()/df.size\n",
    "print(f'Ответ:Среднее арифметическое: {df_mean}')"
   ]
  },
  {
   "cell_type": "markdown",
   "id": "00c4c4b8",
   "metadata": {},
   "source": [
    "**решение:** Посчитаем **cреднее квадратичное** отклонение, без использования статистических методов наподобие std, var, mean\\\n",
    "(показывает насколько сильно отклонения могут быть разбросаны относительно среднего)\n",
    "$$\\sigma = \\sqrt{\\frac{\\sum\\limits_{i=1}^{n} (x_i - \\overline{x})^2}{n}}$$\n",
    "\n",
    "где: $$\\overline{x}$$ — среднее значение, n — количество наблюдений."
   ]
  },
  {
   "cell_type": "code",
   "execution_count": 411,
   "id": "c8fb49e0",
   "metadata": {},
   "outputs": [
    {
     "name": "stdout",
     "output_type": "stream",
     "text": [
      "Ответ:Среднее квадратичное отклонение: 0    30.823854\n",
      "dtype: float64\n"
     ]
    }
   ],
   "source": [
    "# # Cреднее квадратичное отклонение вариант 1.\n",
    "std = np.sqrt(((df - df.mean())**2).sum() / df.count())\n",
    "print(f'Ответ:Среднее квадратичное отклонение: {std}')"
   ]
  },
  {
   "cell_type": "code",
   "execution_count": 412,
   "id": "e74af4b6",
   "metadata": {},
   "outputs": [
    {
     "data": {
      "text/plain": [
       "0    30.823854\n",
       "dtype: float64"
      ]
     },
     "execution_count": 412,
     "metadata": {},
     "output_type": "execute_result"
    }
   ],
   "source": [
    "# Cреднее квадратичное отклонение вариант 2.\n",
    "sigma = (np.sum((df - df_mean)**2) / df.size)**0.5\n",
    "sigma"
   ]
  },
  {
   "cell_type": "code",
   "execution_count": 413,
   "id": "c61d41ac",
   "metadata": {},
   "outputs": [
    {
     "data": {
      "text/plain": [
       "0    30.823854\n",
       "dtype: float64"
      ]
     },
     "execution_count": 413,
     "metadata": {},
     "output_type": "execute_result"
    }
   ],
   "source": [
    "#среднее квадратичное отклонение с помощью метода std:\n",
    "df.std(ddof=0)"
   ]
  },
  {
   "cell_type": "code",
   "execution_count": 414,
   "id": "dec76589",
   "metadata": {},
   "outputs": [
    {
     "data": {
      "text/plain": [
       "0    31.624607\n",
       "dtype: float64"
      ]
     },
     "execution_count": 414,
     "metadata": {},
     "output_type": "execute_result"
    }
   ],
   "source": [
    "#среднее квадратичное отклонение с помощью метода std:\n",
    "df.std(ddof=1)"
   ]
  },
  {
   "cell_type": "markdown",
   "id": "8c2ae654",
   "metadata": {},
   "source": [
    "**решение:**\n",
    "\n",
    "посчитать **смещенную оценки дисперсий**  для данной выборки. без использования статистических методов наподобие std, var, mean\n",
    "$$\\sigma^2 = \\frac{\\sum\\limits_{i=1}^{n} (x_i - \\overline{x})^2}{n}$$\n",
    "\n",
    "где: x — значение n — количество наблюдений, $$\\overline{x}$$ — среднее значение.\n",
    "\n",
    "посчитать **не смещенную оценки дисперсий**  для данной выборки. без использования статистических методов наподобие std, var, mean\n",
    "$$\\sigma^2_{несмещ.} = \\frac{\\sum\\limits_{i=1}^{n} (x_i - \\overline{x})^2}{n - 1}$$\n",
    "где: x — значение n — количество наблюдений, $$\\overline{x}$$ — среднее значение.\n",
    "\n",
    "\n",
    "Дисперсия = среднему квадратичному отклонению, возведенному в квадрат"
   ]
  },
  {
   "cell_type": "code",
   "execution_count": 415,
   "id": "ccf8a88e",
   "metadata": {},
   "outputs": [
    {
     "name": "stdout",
     "output_type": "stream",
     "text": [
      "950.11\n"
     ]
    }
   ],
   "source": [
    "#  смещенная оценка дисперсии\n",
    "m = 65.3 \n",
    "n=len(sample)\n",
    "sum_num = 0\n",
    "for num in sample:\n",
    "  sum_num+= (num - m)**2\n",
    "print(sum_num/n)"
   ]
  },
  {
   "cell_type": "code",
   "execution_count": 416,
   "id": "b0737843",
   "metadata": {},
   "outputs": [
    {
     "name": "stdout",
     "output_type": "stream",
     "text": [
      "1000.1157894736842\n"
     ]
    }
   ],
   "source": [
    "# не смещенная оценка дисперсии\n",
    "m = 65.3 \n",
    "n=len(sample)-1\n",
    "sum_num = 0\n",
    "for num in sample:\n",
    "  sum_num+= (num - m)**2\n",
    "print(sum_num/n)"
   ]
  },
  {
   "cell_type": "code",
   "execution_count": 417,
   "id": "193182b4",
   "metadata": {},
   "outputs": [
    {
     "data": {
      "text/plain": [
       "0    950.11\n",
       "dtype: float64"
      ]
     },
     "execution_count": 417,
     "metadata": {},
     "output_type": "execute_result"
    }
   ],
   "source": [
    "#  смещенная оценка дисперсии\n",
    "((df - df.mean())**2).sum() / (df.count())\n",
    "\n",
    "# np.sum((df - df_mean)**2) / df.size"
   ]
  },
  {
   "cell_type": "code",
   "execution_count": 418,
   "id": "e02e2c77",
   "metadata": {},
   "outputs": [
    {
     "data": {
      "text/plain": [
       "0    1000.115789\n",
       "dtype: float64"
      ]
     },
     "execution_count": 418,
     "metadata": {},
     "output_type": "execute_result"
    }
   ],
   "source": [
    "# не смещенная оценка дисперсии\n",
    "((df - df.mean())**2).sum() / (df.count() - 1)\n",
    "\n",
    "# np.sum((df - df_mean)**2) / (df.size - 1)"
   ]
  },
  {
   "cell_type": "code",
   "execution_count": 419,
   "id": "473b8555",
   "metadata": {},
   "outputs": [
    {
     "data": {
      "text/plain": [
       "0    950.11\n",
       "dtype: float64"
      ]
     },
     "execution_count": 419,
     "metadata": {},
     "output_type": "execute_result"
    }
   ],
   "source": [
    "# смещенную оценку дисперсии, методом var\n",
    "df.var(ddof=0)"
   ]
  },
  {
   "cell_type": "code",
   "execution_count": 420,
   "id": "2aa719a5",
   "metadata": {},
   "outputs": [
    {
     "data": {
      "text/plain": [
       "0    1000.115789\n",
       "dtype: float64"
      ]
     },
     "execution_count": 420,
     "metadata": {},
     "output_type": "execute_result"
    }
   ],
   "source": [
    "# не смещенная оценка дисперсии, методом var\n",
    "df.var(ddof=1)"
   ]
  },
  {
   "cell_type": "markdown",
   "id": "cccf6e05",
   "metadata": {},
   "source": [
    "**решение:**\n",
    "\n",
    "Сделать:\n",
    "- графическую интерпретацию данных\\\n",
    "- проанализовать выбросы\\\n",
    "- посчитать квартили и интерквартильное расстояние"
   ]
  },
  {
   "cell_type": "code",
   "execution_count": 421,
   "id": "075cb5ca",
   "metadata": {},
   "outputs": [
    {
     "data": {
      "text/plain": [
       "RangeIndex(start=0, stop=1, step=1)"
      ]
     },
     "execution_count": 421,
     "metadata": {},
     "output_type": "execute_result"
    }
   ],
   "source": [
    "df.columns"
   ]
  },
  {
   "cell_type": "code",
   "execution_count": 422,
   "id": "ba99b181",
   "metadata": {},
   "outputs": [
    {
     "name": "stdout",
     "output_type": "stream",
     "text": [
      "      0\n",
      "9    17\n",
      "11   24\n",
      "7    25\n",
      "10   30\n",
      "5    33\n",
      "6    45\n",
      "13   55\n",
      "12   57\n",
      "8    65\n",
      "16   65\n",
      "14   70\n",
      "2    75\n",
      "15   75\n",
      "3    77\n",
      "1    80\n",
      "17   84\n",
      "4    89\n",
      "18   90\n",
      "0   100\n",
      "19  150\n"
     ]
    }
   ],
   "source": [
    "# сортировка датафрейма\n",
    "sorted_df = df.sort_values(0)\n",
    "print(sorted_df)"
   ]
  },
  {
   "cell_type": "code",
   "execution_count": 423,
   "id": "7348bb06",
   "metadata": {},
   "outputs": [
    {
     "data": {
      "text/plain": [
       "[17,\n",
       " 24,\n",
       " 25,\n",
       " 30,\n",
       " 33,\n",
       " 45,\n",
       " 55,\n",
       " 57,\n",
       " 65,\n",
       " 65,\n",
       " 70,\n",
       " 75,\n",
       " 75,\n",
       " 77,\n",
       " 80,\n",
       " 84,\n",
       " 89,\n",
       " 90,\n",
       " 100,\n",
       " 150]"
      ]
     },
     "execution_count": 423,
     "metadata": {},
     "output_type": "execute_result"
    }
   ],
   "source": [
    "# сортировка списка\n",
    "sample.sort()\n",
    "sample"
   ]
  },
  {
   "cell_type": "code",
   "execution_count": 424,
   "id": "4fbb03fb",
   "metadata": {},
   "outputs": [],
   "source": [
    "# посчитать квартили и интерквартильное расстояние\n",
    "\n",
    "# кол-во элементов чётное, поэтому медианой в этой выборке будет среднее арифметическое двух центральных элементов:65 и 70\n",
    "# медианы левой и правой половин — это, соответственно первый (или нижний 33,45) и третий (или верхний 80,84) квартили:\n",
    "# Q1=(33+45)/2 = 39\n",
    "# Q2=(65+70)/2 = 67.5 \n",
    "# Q3=(80+84)/2 = 82\n",
    "# Интерквартильный размах — это разность между третьим и первым квартилями: 82-39=43"
   ]
  },
  {
   "cell_type": "code",
   "execution_count": 425,
   "id": "b2521a5d",
   "metadata": {},
   "outputs": [
    {
     "data": {
      "text/html": [
       "<div>\n",
       "<style scoped>\n",
       "    .dataframe tbody tr th:only-of-type {\n",
       "        vertical-align: middle;\n",
       "    }\n",
       "\n",
       "    .dataframe tbody tr th {\n",
       "        vertical-align: top;\n",
       "    }\n",
       "\n",
       "    .dataframe thead th {\n",
       "        text-align: right;\n",
       "    }\n",
       "</style>\n",
       "<table border=\"1\" class=\"dataframe\">\n",
       "  <thead>\n",
       "    <tr style=\"text-align: right;\">\n",
       "      <th></th>\n",
       "      <th>0</th>\n",
       "    </tr>\n",
       "  </thead>\n",
       "  <tbody>\n",
       "    <tr>\n",
       "      <th>count</th>\n",
       "      <td>20.000000</td>\n",
       "    </tr>\n",
       "    <tr>\n",
       "      <th>mean</th>\n",
       "      <td>65.300000</td>\n",
       "    </tr>\n",
       "    <tr>\n",
       "      <th>std</th>\n",
       "      <td>31.624607</td>\n",
       "    </tr>\n",
       "    <tr>\n",
       "      <th>min</th>\n",
       "      <td>17.000000</td>\n",
       "    </tr>\n",
       "    <tr>\n",
       "      <th>25%</th>\n",
       "      <td>42.000000</td>\n",
       "    </tr>\n",
       "    <tr>\n",
       "      <th>50%</th>\n",
       "      <td>67.500000</td>\n",
       "    </tr>\n",
       "    <tr>\n",
       "      <th>75%</th>\n",
       "      <td>81.000000</td>\n",
       "    </tr>\n",
       "    <tr>\n",
       "      <th>max</th>\n",
       "      <td>150.000000</td>\n",
       "    </tr>\n",
       "  </tbody>\n",
       "</table>\n",
       "</div>"
      ],
      "text/plain": [
       "                0\n",
       "count   20.000000\n",
       "mean    65.300000\n",
       "std     31.624607\n",
       "min     17.000000\n",
       "25%     42.000000\n",
       "50%     67.500000\n",
       "75%     81.000000\n",
       "max    150.000000"
      ]
     },
     "execution_count": 425,
     "metadata": {},
     "output_type": "execute_result"
    }
   ],
   "source": [
    "# посчитать квартили\n",
    "sorted_df.describe()"
   ]
  },
  {
   "cell_type": "code",
   "execution_count": 426,
   "id": "b4d1b0d7",
   "metadata": {},
   "outputs": [
    {
     "data": {
      "text/html": [
       "<div>\n",
       "<style scoped>\n",
       "    .dataframe tbody tr th:only-of-type {\n",
       "        vertical-align: middle;\n",
       "    }\n",
       "\n",
       "    .dataframe tbody tr th {\n",
       "        vertical-align: top;\n",
       "    }\n",
       "\n",
       "    .dataframe thead th {\n",
       "        text-align: right;\n",
       "    }\n",
       "</style>\n",
       "<table border=\"1\" class=\"dataframe\">\n",
       "  <thead>\n",
       "    <tr style=\"text-align: right;\">\n",
       "      <th></th>\n",
       "      <th>0</th>\n",
       "    </tr>\n",
       "  </thead>\n",
       "  <tbody>\n",
       "    <tr>\n",
       "      <th>0.25</th>\n",
       "      <td>42.0</td>\n",
       "    </tr>\n",
       "    <tr>\n",
       "      <th>0.50</th>\n",
       "      <td>67.5</td>\n",
       "    </tr>\n",
       "    <tr>\n",
       "      <th>0.75</th>\n",
       "      <td>81.0</td>\n",
       "    </tr>\n",
       "  </tbody>\n",
       "</table>\n",
       "</div>"
      ],
      "text/plain": [
       "         0\n",
       "0.25  42.0\n",
       "0.50  67.5\n",
       "0.75  81.0"
      ]
     },
     "execution_count": 426,
     "metadata": {},
     "output_type": "execute_result"
    }
   ],
   "source": [
    "# посчитать квартили\n",
    "sorted_df.quantile([0.25,0.5,0.75])"
   ]
  },
  {
   "cell_type": "code",
   "execution_count": 427,
   "id": "f3533fc1",
   "metadata": {},
   "outputs": [
    {
     "data": {
      "text/plain": [
       "array([42. , 67.5, 81. ])"
      ]
     },
     "execution_count": 427,
     "metadata": {},
     "output_type": "execute_result"
    }
   ],
   "source": [
    "# посчитать квартили\n",
    "np.percentile(sorted_df,[25, 50, 75])"
   ]
  },
  {
   "cell_type": "code",
   "execution_count": 428,
   "id": "0aeb401e",
   "metadata": {},
   "outputs": [
    {
     "data": {
      "text/plain": [
       "39.0"
      ]
     },
     "execution_count": 428,
     "metadata": {},
     "output_type": "execute_result"
    }
   ],
   "source": [
    "q75, q25 = np.percentile(sorted_df, [75,25])\n",
    "iqr = q75 - q25\n",
    "iqr"
   ]
  },
  {
   "cell_type": "code",
   "execution_count": 429,
   "id": "2ec78a66",
   "metadata": {},
   "outputs": [
    {
     "data": {
      "image/png": "[encoded data removed]",
      "text/plain": [
       "<Figure size 432x288 with 1 Axes>"
      ]
     },
     "metadata": {
      "needs_background": "light"
     },
     "output_type": "display_data"
    }
   ],
   "source": [
    "# построим гистограмму. По умолчанию данные разбиваются на 10 частей высота столбиков соответствует количеству наблюдений в бине:\n",
    "plt.hist(df)\n",
    "plt.show()"
   ]
  },
  {
   "cell_type": "code",
   "execution_count": 430,
   "id": "7c64b8e3",
   "metadata": {},
   "outputs": [
    {
     "data": {
      "image/png": "[encoded data removed]",
      "text/plain": [
       "<Figure size 432x288 with 1 Axes>"
      ]
     },
     "metadata": {
      "needs_background": "light"
     },
     "output_type": "display_data"
    }
   ],
   "source": [
    "plt.hist(sorted_df, bins = 20)\n",
    "plt.show()"
   ]
  },
  {
   "cell_type": "markdown",
   "id": "16b611b0",
   "metadata": {},
   "source": [
    "построение бокс-графиков различными методами:"
   ]
  },
  {
   "cell_type": "code",
   "execution_count": 431,
   "id": "a05e66ff",
   "metadata": {},
   "outputs": [
    {
     "data": {
      "text/plain": [
       "<AxesSubplot:>"
      ]
     },
     "execution_count": 431,
     "metadata": {},
     "output_type": "execute_result"
    },
    {
     "data": {
      "image/png": "[encoded data removed]",
      "text/plain": [
       "<Figure size 432x432 with 1 Axes>"
      ]
     },
     "metadata": {
      "needs_background": "light"
     },
     "output_type": "display_data"
    }
   ],
   "source": [
    "pd.plotting.boxplot\\\n",
    "(df, column=None, by=None, ax=None, fontsize=12, rot=0, grid=True, figsize=(6, 6), layout=None, return_type=None)"
   ]
  },
  {
   "cell_type": "code",
   "execution_count": 432,
   "id": "28a67706",
   "metadata": {},
   "outputs": [
    {
     "data": {
      "text/plain": [
       "<AxesSubplot:>"
      ]
     },
     "execution_count": 432,
     "metadata": {},
     "output_type": "execute_result"
    },
    {
     "data": {
      "image/png": "[encoded data removed]",
      "text/plain": [
       "<Figure size 432x432 with 1 Axes>"
      ]
     },
     "metadata": {
      "needs_background": "light"
     },
     "output_type": "display_data"
    }
   ],
   "source": [
    "df.boxplot\\\n",
    "(column=None, by=None, ax=None, fontsize=12, rot=0, grid=True, figsize=(6, 6), layout=None, return_type=None, backend=None)"
   ]
  },
  {
   "cell_type": "code",
   "execution_count": 433,
   "id": "57c839bd",
   "metadata": {},
   "outputs": [],
   "source": [
    "import seaborn as sns"
   ]
  },
  {
   "cell_type": "code",
   "execution_count": 434,
   "id": "bc0643e1",
   "metadata": {},
   "outputs": [
    {
     "data": {
      "image/png": "[encoded data removed]",
      "text/plain": [
       "<Figure size 432x288 with 1 Axes>"
      ]
     },
     "metadata": {
      "needs_background": "light"
     },
     "output_type": "display_data"
    }
   ],
   "source": [
    "sns.boxplot(sample)\n",
    "plt.show()"
   ]
  },
  {
   "cell_type": "code",
   "execution_count": 435,
   "id": "66cdc1c8",
   "metadata": {},
   "outputs": [
    {
     "data": {
      "image/png": "[encoded data removed]",
      "text/plain": [
       "<Figure size 432x288 with 1 Axes>"
      ]
     },
     "metadata": {
      "needs_background": "light"
     },
     "output_type": "display_data"
    }
   ],
   "source": [
    "sns.boxplot(x=\"variable\", y=\"value\", data=pd.melt(df))\n",
    "plt.show()"
   ]
  },
  {
   "cell_type": "markdown",
   "id": "30835679",
   "metadata": {},
   "source": [
    "на графике видим 'выброс' больше третьей квартили"
   ]
  },
  {
   "cell_type": "code",
   "execution_count": 436,
   "id": "e5023471",
   "metadata": {},
   "outputs": [
    {
     "name": "stdout",
     "output_type": "stream",
     "text": [
      "<class 'pandas.core.frame.DataFrame'>\n",
      "RangeIndex: 20 entries, 0 to 19\n",
      "Data columns (total 1 columns):\n",
      " #   Column  Non-Null Count  Dtype\n",
      "---  ------  --------------  -----\n",
      " 0   0       20 non-null     int64\n",
      "dtypes: int64(1)\n",
      "memory usage: 288.0 bytes\n"
     ]
    }
   ],
   "source": [
    "df.info()"
   ]
  },
  {
   "cell_type": "code",
   "execution_count": 437,
   "id": "8b442186",
   "metadata": {},
   "outputs": [
    {
     "data": {
      "text/html": [
       "<div>\n",
       "<style scoped>\n",
       "    .dataframe tbody tr th:only-of-type {\n",
       "        vertical-align: middle;\n",
       "    }\n",
       "\n",
       "    .dataframe tbody tr th {\n",
       "        vertical-align: top;\n",
       "    }\n",
       "\n",
       "    .dataframe thead th {\n",
       "        text-align: right;\n",
       "    }\n",
       "</style>\n",
       "<table border=\"1\" class=\"dataframe\">\n",
       "  <thead>\n",
       "    <tr style=\"text-align: right;\">\n",
       "      <th></th>\n",
       "      <th>0</th>\n",
       "    </tr>\n",
       "    <tr>\n",
       "      <th>0</th>\n",
       "      <th></th>\n",
       "    </tr>\n",
       "  </thead>\n",
       "  <tbody>\n",
       "    <tr>\n",
       "      <th>75</th>\n",
       "      <td>0.10</td>\n",
       "    </tr>\n",
       "    <tr>\n",
       "      <th>65</th>\n",
       "      <td>0.10</td>\n",
       "    </tr>\n",
       "    <tr>\n",
       "      <th>17</th>\n",
       "      <td>0.05</td>\n",
       "    </tr>\n",
       "    <tr>\n",
       "      <th>100</th>\n",
       "      <td>0.05</td>\n",
       "    </tr>\n",
       "    <tr>\n",
       "      <th>90</th>\n",
       "      <td>0.05</td>\n",
       "    </tr>\n",
       "    <tr>\n",
       "      <th>89</th>\n",
       "      <td>0.05</td>\n",
       "    </tr>\n",
       "    <tr>\n",
       "      <th>84</th>\n",
       "      <td>0.05</td>\n",
       "    </tr>\n",
       "    <tr>\n",
       "      <th>80</th>\n",
       "      <td>0.05</td>\n",
       "    </tr>\n",
       "    <tr>\n",
       "      <th>77</th>\n",
       "      <td>0.05</td>\n",
       "    </tr>\n",
       "    <tr>\n",
       "      <th>70</th>\n",
       "      <td>0.05</td>\n",
       "    </tr>\n",
       "    <tr>\n",
       "      <th>24</th>\n",
       "      <td>0.05</td>\n",
       "    </tr>\n",
       "    <tr>\n",
       "      <th>57</th>\n",
       "      <td>0.05</td>\n",
       "    </tr>\n",
       "    <tr>\n",
       "      <th>55</th>\n",
       "      <td>0.05</td>\n",
       "    </tr>\n",
       "    <tr>\n",
       "      <th>45</th>\n",
       "      <td>0.05</td>\n",
       "    </tr>\n",
       "    <tr>\n",
       "      <th>33</th>\n",
       "      <td>0.05</td>\n",
       "    </tr>\n",
       "    <tr>\n",
       "      <th>30</th>\n",
       "      <td>0.05</td>\n",
       "    </tr>\n",
       "    <tr>\n",
       "      <th>25</th>\n",
       "      <td>0.05</td>\n",
       "    </tr>\n",
       "    <tr>\n",
       "      <th>150</th>\n",
       "      <td>0.05</td>\n",
       "    </tr>\n",
       "  </tbody>\n",
       "</table>\n",
       "</div>"
      ],
      "text/plain": [
       "        0\n",
       "0        \n",
       "75   0.10\n",
       "65   0.10\n",
       "17   0.05\n",
       "100  0.05\n",
       "90   0.05\n",
       "89   0.05\n",
       "84   0.05\n",
       "80   0.05\n",
       "77   0.05\n",
       "70   0.05\n",
       "24   0.05\n",
       "57   0.05\n",
       "55   0.05\n",
       "45   0.05\n",
       "33   0.05\n",
       "30   0.05\n",
       "25   0.05\n",
       "150  0.05"
      ]
     },
     "execution_count": 437,
     "metadata": {},
     "output_type": "execute_result"
    }
   ],
   "source": [
    "df.value_counts(normalize=True).to_frame()"
   ]
  },
  {
   "cell_type": "code",
   "execution_count": 438,
   "id": "c2d341e1",
   "metadata": {},
   "outputs": [
    {
     "data": {
      "text/plain": [
       "75    2\n",
       "65    2\n",
       "dtype: int64"
      ]
     },
     "execution_count": 438,
     "metadata": {},
     "output_type": "execute_result"
    }
   ],
   "source": [
    "df.value_counts().loc[lambda x : x > 1]"
   ]
  },
  {
   "cell_type": "code",
   "execution_count": 439,
   "id": "1f5881b0",
   "metadata": {},
   "outputs": [
    {
     "data": {
      "text/plain": [
       "<pandas.core.indexing._LocIndexer at 0x1f5faed8a40>"
      ]
     },
     "execution_count": 439,
     "metadata": {},
     "output_type": "execute_result"
    }
   ],
   "source": [
    "df.loc()"
   ]
  },
  {
   "cell_type": "code",
   "execution_count": 440,
   "id": "14c9578a",
   "metadata": {},
   "outputs": [
    {
     "data": {
      "text/plain": [
       "<AxesSubplot:>"
      ]
     },
     "execution_count": 440,
     "metadata": {},
     "output_type": "execute_result"
    },
    {
     "data": {
      "image/png": "[encoded data removed]",
      "text/plain": [
       "<Figure size 432x432 with 1 Axes>"
      ]
     },
     "metadata": {
      "needs_background": "light"
     },
     "output_type": "display_data"
    }
   ],
   "source": [
    "# Можно использовать метод numpy.percentile () для расчета значений Q1 и Q3 и заменить выбросы (с numpy.nan) на нулевые значения.\n",
    "# ИЗБАВИТСЯ ОТ ВЫБРОСОВ\n",
    "for x in df:\n",
    "    q75,q25 = np.percentile(df.loc[:,x],[75,25])\n",
    "    intr_qr = q75-q25\n",
    "\n",
    "    max = q75+(1.5*intr_qr)\n",
    "    min = q25-(1.5*intr_qr)\n",
    "\n",
    "    df.loc[df[x] < min,x] = np.nan\n",
    "    df.loc[df[x] > max,x] = np.nan\n",
    "df.boxplot(column=None, by=None, ax=None, fontsize=12, rot=0, grid=True, figsize=(6, 6), layout=None, return_type=None, backend=None)"
   ]
  },
  {
   "cell_type": "markdown",
   "id": "ba3b7901",
   "metadata": {},
   "source": [
    "## **ЗАДАЧА 2.**\\\n",
    "В первом ящике находится 8 мячей, из которых 5 - белые.\\\n",
    "Во втором ящике - 12 мячей, из которых 5 - белые.\\\n",
    "Из первого ящика вытаскивают случайным образом - 2 мяча, из второго - 4.\n",
    "\n",
    "- **Какова вероятность того, что 3 мяча белые?**"
   ]
  },
  {
   "cell_type": "markdown",
   "id": "20d757ae",
   "metadata": {},
   "source": [
    "### решение:\n",
    "#### первый ящик\n",
    "n1 = 8  - всего мячей\\\n",
    "v1 = 5  - белых мячей\\\n",
    "b1 = 3  - чёрных мячей\\\n",
    "a1 = 2  - случайный выбор мячей\n",
    "\n",
    "#### второй ящик\n",
    "n2 = 12 - всего мячей\\\n",
    "v2 = 5 - белых мячей\\\n",
    "b2 = 7 - чёрных мячей\\\n",
    "a2 = 4 - случайный выбор мячей\n",
    "\n",
    "из выбранных мячей 3 мяча белыми могут оказатся в 18 возможных вариантах:\n",
    "\n",
    "(бб)(чччб) + (бб)(ччбч) + (бб)(чбчч) + (бб)(бччч) +\\\n",
    "(бч)(ччбб) + (бч)(чбчб) + (бч)(бччб) + (бч)(бчбч) + (бч)(ббчч) +\\\n",
    "(чб)(ччбб) + (чб)(чбчб) + (чб)(бччб) + (чб)(бчбч) + (чб)(ббчч) +\\\n",
    "(чч)(чббб) + (чч)(бчбб) + (чч)(ббчб) + (чч)(бббч)\n",
    "\n",
    "\n",
    "\n",
    "\n",
    "*разделение на блоки для самопроверки*\n",
    "\n",
    "(5/8)*(4/7)   * (7/12)*(6/11)*(5/10)*(2/9) +\\\n",
    "(5/8)*(4/7)   * (7/12)*(6/11)*(5/10)*(5/9) +\\\n",
    "(5/8)*(4/7)   * (7/12)*(5/11)*(6/10)*(5/9) +\\\n",
    "(5/8)*(4/7)   * (5/12)*(7/11)*(6/10)*(5/9) +\n",
    "\n",
    "(5/8)*(3/7)   * (7/12)*(6/11)*(5/10)*(4/9) +\\\n",
    "(5/8)*(3/7)   * (7/12)*(5/11)*(6/10)*(4/9) +\\\n",
    "(5/8)*(3/7)   * (5/12)*(7/11)*(6/10)*(4/9) +\\\n",
    "(5/8)*(3/7)   * (5/12)*(7/11)*(4/10)*(6/9) +\\\n",
    "(5/8)*(3/7)   * (5/12)*(4/11)*(7/10)*(6/9) +\n",
    "\n",
    "(3/8)*(5/7)   * (7/12)*(6/11)*(5/10)*(4/9) +\\\n",
    "(3/8)*(5/7)   * (7/12)*(5/11)*(6/10)*(4/9) +\\\n",
    "(3/8)*(5/7)   * (5/12)*(7/11)*(6/10)*(4/9) +\\\n",
    "(3/8)*(5/7)   * (5/12)*(7/11)*(4/10)*(6/9) +\\\n",
    "(3/8)*(5/7)   * (5/12)*(4/11)*(7/10)*(6/9) +\n",
    "\n",
    "(3/8)*(2/7)   * (7/12)*(5/11)*(4/10)*(3/9) +\\\n",
    "(3/8)*(2/7)   * (5/12)*(7/11)*(4/10)*(3/9) +\\\n",
    "(3/8)*(2/7)   * (5/12)*(4/11)*(7/10)*(3/9) +\\\n",
    "(3/8)*(2/7)   * (5/12)*(4/11)*(3/10)*(7/9)"
   ]
  },
  {
   "cell_type": "code",
   "execution_count": 441,
   "id": "daad0464",
   "metadata": {},
   "outputs": [
    {
     "name": "stdout",
     "output_type": "stream",
     "text": [
      "Ответ:Вероятность того, что 3 мяча белые: 0.31\n"
     ]
    }
   ],
   "source": [
    "P=\\\n",
    "(5/8)*(4/7)*(7/12)*(6/11)*(5/10)*(2/9)+\\\n",
    "(5/8)*(4/7)*(7/12)*(6/11)*(5/10)*(5/9)+\\\n",
    "(5/8)*(4/7)*(7/12)*(5/11)*(6/10)*(5/9)+\\\n",
    "(5/8)*(4/7)*(5/12)*(7/11)*(6/10)*(5/9)+\\\n",
    "(5/8)*(3/7)*(7/12)*(6/11)*(5/10)*(4/9)+\\\n",
    "(5/8)*(3/7)*(7/12)*(5/11)*(6/10)*(4/9)+\\\n",
    "(5/8)*(3/7)*(5/12)*(7/11)*(6/10)*(4/9)+\\\n",
    "(5/8)*(3/7)*(5/12)*(7/11)*(4/10)*(6/9)+\\\n",
    "(5/8)*(3/7)*(5/12)*(4/11)*(7/10)*(6/9)+\\\n",
    "(3/8)*(5/7)*(7/12)*(6/11)*(5/10)*(4/9)+\\\n",
    "(3/8)*(5/7)*(7/12)*(5/11)*(6/10)*(4/9)+\\\n",
    "(3/8)*(5/7)*(5/12)*(7/11)*(6/10)*(4/9)+\\\n",
    "(3/8)*(5/7)*(5/12)*(7/11)*(4/10)*(6/9)+\\\n",
    "(3/8)*(5/7)*(5/12)*(4/11)*(7/10)*(6/9)+\\\n",
    "(3/8)*(2/7)*(7/12)*(5/11)*(4/10)*(3/9)+\\\n",
    "(3/8)*(2/7)*(5/12)*(7/11)*(4/10)*(3/9)+\\\n",
    "(3/8)*(2/7)*(5/12)*(4/11)*(7/10)*(3/9)+\\\n",
    "(3/8)*(2/7)*(5/12)*(4/11)*(3/10)*(7/9)\n",
    "\n",
    "print(f'Ответ:Вероятность того, что 3 мяча белые: {P :.2f}')"
   ]
  },
  {
   "cell_type": "markdown",
   "id": "2b42e7fb",
   "metadata": {},
   "source": [
    "**ЗАДАЧА 3.**\\\n",
    "В университет на факультеты A и B поступило равное количество студентов,\\\n",
    "а на факультет C студентов поступило столько же, сколько на A и B вместе.\\\n",
    "\n",
    "Вероятность того, что студент факультета A сдаст первую сессию, равна 0.8.\\\n",
    "Для студента факультета B эта вероятность равна 0.7\\\n",
    "а для студента факультета C 0.9.\n",
    "\n",
    "Студент сдал первую сессию.Какова вероятность, что он учится:\n",
    "- a). на факультете A \n",
    "- б). на факультете B \n",
    "- в). на факультете C\n",
    "\n",
    "**решение**"
   ]
  },
  {
   "cell_type": "code",
   "execution_count": 442,
   "id": "9aab482c",
   "metadata": {},
   "outputs": [
    {
     "data": {
      "text/plain": [
       "0.825"
      ]
     },
     "execution_count": 442,
     "metadata": {},
     "output_type": "execute_result"
    }
   ],
   "source": [
    "# A=x, B=x, C=2x.\n",
    "\n",
    "x = 1/4\n",
    "\n",
    "# - посчитаем общую вероятность сдачи для всех трёх факультетов:\n",
    "p = x*0.8 + x*0.7 + 2*x*0.9 \n",
    "p"
   ]
  },
  {
   "cell_type": "code",
   "execution_count": 443,
   "id": "c901f2b1",
   "metadata": {},
   "outputs": [
    {
     "name": "stdout",
     "output_type": "stream",
     "text": [
      "Вероятность сдачи для факультете A: 0.24\n",
      "Вероятность сдачи для факультете B: 0.21\n",
      "Вероятность сдачи для факультете C: 0.55\n"
     ]
    }
   ],
   "source": [
    "print(f'Вероятность сдачи для факультете A: {(x*0.8)/p:.2f}')\n",
    "print(f'Вероятность сдачи для факультете B: {(x*0.7)/p:.2f}')\n",
    "print(f'Вероятность сдачи для факультете C: {(2*x*0.9)/p:.2f}')"
   ]
  },
  {
   "cell_type": "markdown",
   "id": "6a9d029a",
   "metadata": {},
   "source": [
    "**ЗАДАЧА 4.**\\\n",
    "Устройство состоит из трех деталей.\\\n",
    "Bероятность выйти из строя в первый месяц:\\\n",
    "для первой детали  - 0.1\\\n",
    "для второй детали  - 0.2\\\n",
    "для третьей детали - 0.25\n",
    "\n",
    "Какова вероятность того, что в первый месяц выйдут из строя:\n",
    "- а). все детали\n",
    "- б). только две детали\n",
    "- в). хотя бы одна деталь\n",
    "- г). от одной до двух деталей?"
   ]
  },
  {
   "cell_type": "markdown",
   "id": "b1c29ad6",
   "metadata": {},
   "source": [
    "количество деталей: n = 3 \n",
    "\n",
    "\n",
    "первая деталь вероятность выхода из строя: p1=P(A1) = 0.1\\\n",
    "вторая деталь вероятность выхода из строя: p2=P(A2) = 0.2\\\n",
    "третья деталь вероятность выхода из строя: p3=P(A3) = 0.25\n",
    "\n",
    "первая деталь вероятность НЕ выхода из строя: q1=1−p1 = 0.9\\\n",
    "вторая деталь вероятность НЕ выхода из строя: q2=1−p2 = 0.8\\\n",
    "третья деталь вероятность НЕ выхода из строя: q3=1−p3 = 0.75\n",
    "\n",
    "Ни одна деталь не отказала:\n",
    "$$P(X_0)=P\\left(\\overline{A_1} \\cdot \\overline{A_2} \\cdot \\overline{A_3}\\right)=  P\\left(\\overline{A_1}\\right) \\cdot  P\\left(\\overline{A_2}\\right) \\cdot  P\\left(\\overline{A_3}\\right)= q_1 \\cdot q_2 \\cdot q_3.  \\qquad $$\n",
    "\n",
    "Одна деталь отказала, две - нет:\n",
    "\n",
    "$$P(X_1)= \\\\ = P(A_1) \\cdot P\\left(\\overline{A_2} \\right) \\cdot P\\left(\\overline{A_3} \\right) +  P\\left(\\overline{A_1}\\right) \\cdot P(A_2) \\cdot P\\left(\\overline{A_3} \\right) +  P\\left(\\overline{A_1} \\right) \\cdot P\\left(\\overline{A_2} \\right) \\cdot P(A_3)=\\\\\n",
    " = p_1 \\cdot q_2 \\cdot q_3 + q_1 \\cdot p_2 \\cdot q_3 +  q_1 \\cdot q_2 \\cdot p_3. \\qquad$$\n",
    "\n",
    "Две детали отказали, одна - нет:\n",
    " \n",
    "$$P(X_2)= \\\\ \n",
    "= P(A_1) \\cdot P(A_2) \\cdot P\\left(\\overline{A_3} \\right) +  P(A_1)\\cdot P\\left(\\overline{A_2} \\right) \\cdot P(A_3)  +  P\\left(\\overline{A_1} \\right) \\cdot P(A_2) \\cdot P(A_3)=\\\\\n",
    "= p_1 \\cdot p_2 \\cdot q_3 + p_1 \\cdot q_2 \\cdot p_3 +  q_1 \\cdot p_2 \\cdot p_3. \\qquad$$\n",
    "\n",
    "Три детали отказали:\n",
    "$$P(X_3)=P(A_1 \\cdot A_2 \\cdot A_3)  =  P(A_1) \\cdot P(A_2) \\cdot P(A_3) =  p_1 \\cdot p_2 \\cdot p_3. \\qquad$$"
   ]
  },
  {
   "cell_type": "code",
   "execution_count": 444,
   "id": "3162d80e",
   "metadata": {},
   "outputs": [
    {
     "name": "stdout",
     "output_type": "stream",
     "text": [
      "Три детали отказали: 0.01\n",
      "Две детали отказали, одна - нет: 0.08\n",
      "Одна деталь отказала, две - нет: 0.38\n",
      "Ни одна деталь не отказала: 0.54\n"
     ]
    }
   ],
   "source": [
    "p1=0.1\n",
    "p2=0.2\n",
    "p3=0.25\n",
    "q1=0.9\n",
    "q2=0.8\n",
    "q3=0.75\n",
    "\n",
    "print(f'Три детали отказали: {𝑝1*𝑝2*𝑝3 :.2f}')\n",
    "print(f'Две детали отказали, одна - нет: {𝑝1*𝑝2*𝑞3+𝑝1*𝑞2*𝑝3+𝑞1*𝑝2*𝑝3 :.2f}')\n",
    "print(f'Одна деталь отказала, две - нет: {𝑝1*𝑞2*𝑞3+𝑞1*𝑝2*𝑞3+𝑞1*𝑞2*𝑝3 :.2f}')\n",
    "print(f'Ни одна деталь не отказала: {𝑞1*𝑞2*𝑞3 :.2f}')"
   ]
  }
 ],
 "metadata": {
  "kernelspec": {
   "display_name": "Python 3 (ipykernel)",
   "language": "python",
   "name": "python3"
  },
  "language_info": {
   "codemirror_mode": {
    "name": "ipython",
    "version": 3
   },
   "file_extension": ".py",
   "mimetype": "text/x-python",
   "name": "python",
   "nbconvert_exporter": "python",
   "pygments_lexer": "ipython3",
   "version": "3.11.5"
  }
 },
 "nbformat": 4,
 "nbformat_minor": 5
}
